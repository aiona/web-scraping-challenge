{
 "cells": [
  {
   "cell_type": "code",
   "execution_count": 1,
   "metadata": {},
   "outputs": [],
   "source": [
    "# Dependencies\n",
    "from bs4 import BeautifulSoup\n",
    "from splinter import Browser\n",
    "from selenium import webdriver\n",
    "import re\n",
    "from lxml import html\n",
    "import requests"
   ]
  },
  {
   "cell_type": "code",
   "execution_count": 75,
   "metadata": {},
   "outputs": [],
   "source": [
    "#Site Navigation\n",
    "executable_path = {'executable_path': '/usr/local/bin/chromedriver'}\n",
    "#executable_path = {\"executable_path\": \"/Users/adamiona/Desktop/Python_Stuff/web-scraping-challenge\"}\n",
    "#driver = webdriver.Chrome(executable_path=\"/Users/adamiona/Desktop/Python_Stuff/web-scraping-challenge/\")\n",
    "browser = Browser(\"chrome\", **executable_path, headless=False)"
   ]
  },
  {
   "cell_type": "code",
   "execution_count": 113,
   "metadata": {},
   "outputs": [
    {
     "name": "stdout",
     "output_type": "stream",
     "text": [
      "The MarCO Mission Comes to an End\n",
      "The pair of briefcase-sized satellites made history when they sailed past Mars in 2019.\n"
     ]
    }
   ],
   "source": [
    "#Visit NASA Mars News\n",
    "url = 'https://mars.nasa.gov/news/'\n",
    "browser.visit(url)\n",
    "html = browser.html\n",
    "soup = BeautifulSoup(html, 'html.parser')\n",
    "\n",
    "#Get title and paragraph text. \n",
    "article_title = soup.find_all('div', class_='content_title')[0].text.strip()\n",
    "article_text = soup.find_all('div', class_='article_teaser_body')[0].text.strip()\n",
    "print(article_title)\n",
    "print(article_text)"
   ]
  },
  {
   "cell_type": "code",
   "execution_count": 147,
   "metadata": {},
   "outputs": [
    {
     "name": "stdout",
     "output_type": "stream",
     "text": [
      "https://www.jpl.nasa.gov/spaceimages/images/largesize/PIA14712_hires.jpg\n"
     ]
    }
   ],
   "source": [
    "#Visit JPL Images site\n",
    "url = 'https://www.jpl.nasa.gov/spaceimages/?search=&category=Mars'\n",
    "#featured_image_url = 'https://www.jpl.nasa.gov/spaceimages/images/largesize/PIA09178_hires.jpg'\n",
    "browser.visit(url)\n",
    "html = browser.html\n",
    "soup = BeautifulSoup(html, 'html.parser')\n",
    "\n",
    "#Click button to view full image\n",
    "full_img = browser.find_by_id('full_image')\n",
    "full_img.click()\n",
    "\n",
    "#Click 'More Info' button\n",
    "browser.is_element_present_by_text(\"more info\", wait_time=1)\n",
    "more_info = browser.find_link_by_partial_text(\"more info\")\n",
    "more_info.click()\n",
    "\n",
    "#Get image link\n",
    "#image_url = soup.footer.a[\"data-link\"]\n",
    "image_url = browser.find_by_tag('img')[6]['src']\n",
    "#image_url = browser.find_by_tag('a')['href']\n",
    "#image_url = soup.find(\"figure\", class_='lede')['a img']\n",
    "#css('img.main_image').links.find_by_partial_href('spaceimages/images/largesize')\n",
    "print(image_url)\n",
    "\n",
    "#featured_image_url = \"https://www.jpl.nasa.gov\" + str(image_url)\n",
    "#featured_image_url"
   ]
  },
  {
   "cell_type": "code",
   "execution_count": 112,
   "metadata": {},
   "outputs": [
    {
     "name": "stdout",
     "output_type": "stream",
     "text": [
      "None\n"
     ]
    }
   ],
   "source": [
    "#Scrape Mars Weather Twitter\n",
    "url = 'https://twitter.com/marswxreport?lang=en'\n",
    "browser.visit(url)\n",
    "html = browser.html\n",
    "soup = BeautifulSoup(html, 'html.parser')\n",
    "\n",
    "#Extract tweet text\n",
    "mars_weather = soup.find('div', attrs={\"data-testid\":\"tweet\" })\n",
    "#\"css-901oao r-hkyrab r-1qd0xha r-a023e6 r-16dba41 r-ad9z0x r-bcqeeo r-bnwqim r-qvutc0\"\n",
    "print(mars_weather)\n",
    "\n",
    "# mars_tweet = mars_weather.find('p', class_='tweet-text').get_text()\n",
    "#print(mars_tweet)\n"
   ]
  },
  {
   "cell_type": "code",
   "execution_count": 69,
   "metadata": {
    "scrolled": true
   },
   "outputs": [
    {
     "data": {
      "text/plain": [
       "'<table class=\"tablepress tablepress-id-p-mars\" id=\"tablepress-p-mars-no-2\">  <tbody>   <tr class=\"row-1 odd\">    <td class=\"column-1\">     <strong>      Equatorial Diameter:     </strong>    </td>    <td class=\"column-2\">     6,792 km     <br/>    </td>   </tr>   <tr class=\"row-2 even\">    <td class=\"column-1\">     <strong>      Polar Diameter:     </strong>    </td>    <td class=\"column-2\">     6,752 km     <br/>    </td>   </tr>   <tr class=\"row-3 odd\">    <td class=\"column-1\">     <strong>      Mass:     </strong>    </td>    <td class=\"column-2\">     6.39 × 10^23 kg     <br/>     (0.11 Earths)    </td>   </tr>   <tr class=\"row-4 even\">    <td class=\"column-1\">     <strong>      Moons:     </strong>    </td>    <td class=\"column-2\">     2 (     <a href=\"https://space-facts.com/moons/phobos/\">      Phobos     </a>     &amp;     <a href=\"https://space-facts.com/moons/deimos/\">      Deimos     </a>     )    </td>   </tr>   <tr class=\"row-5 odd\">    <td class=\"column-1\">     <strong>      Orbit Distance:     </strong>    </td>    <td class=\"column-2\">     227,943,824 km     <br/>     (1.38 AU)    </td>   </tr>   <tr class=\"row-6 even\">    <td class=\"column-1\">     <strong>      Orbit Period:     </strong>    </td>    <td class=\"column-2\">     687 days (1.9 years)     <br/>    </td>   </tr>   <tr class=\"row-7 odd\">    <td class=\"column-1\">     <strong>      Surface Temperature:     </strong>    </td>    <td class=\"column-2\">     -87 to -5 °C    </td>   </tr>   <tr class=\"row-8 even\">    <td class=\"column-1\">     <strong>      First Record:     </strong>    </td>    <td class=\"column-2\">     2nd millennium BC    </td>   </tr>   <tr class=\"row-9 odd\">    <td class=\"column-1\">     <strong>      Recorded By:     </strong>    </td>    <td class=\"column-2\">     Egyptian astronomers    </td>   </tr>  </tbody> </table>'"
      ]
     },
     "execution_count": 69,
     "metadata": {},
     "output_type": "execute_result"
    }
   ],
   "source": [
    "#Scrape Space Facts\n",
    "\n",
    "#import pandas as pd\n",
    "url = 'https://space-facts.com/mars/'\n",
    "#df = pd.read_html(url)[0]\n",
    "#df.columns =['description', 'value']\n",
    "#df.set_index('description', inplace=True)\n",
    "#df\n",
    "browser.visit(url)\n",
    "html = browser.html\n",
    "soup = BeautifulSoup(html, 'html.parser')\n",
    "html_table = soup.find(\"table\", id=\"tablepress-p-mars-no-2\").prettify()\n",
    "html_table.replace(\"\\n\", \" \")"
   ]
  },
  {
   "cell_type": "code",
   "execution_count": 10,
   "metadata": {
    "scrolled": true
   },
   "outputs": [
    {
     "data": {
      "text/plain": [
       "'<table border=\"1\" class=\"dataframe\">\\n  <thead>\\n    <tr style=\"text-align: right;\">\\n      <th></th>\\n      <th>value</th>\\n    </tr>\\n    <tr>\\n      <th>description</th>\\n      <th></th>\\n    </tr>\\n  </thead>\\n  <tbody>\\n    <tr>\\n      <th>Equatorial Diameter:</th>\\n      <td>6,792 km</td>\\n    </tr>\\n    <tr>\\n      <th>Polar Diameter:</th>\\n      <td>6,752 km</td>\\n    </tr>\\n    <tr>\\n      <th>Mass:</th>\\n      <td>6.39 × 10^23 kg (0.11 Earths)</td>\\n    </tr>\\n    <tr>\\n      <th>Moons:</th>\\n      <td>2 (Phobos &amp; Deimos)</td>\\n    </tr>\\n    <tr>\\n      <th>Orbit Distance:</th>\\n      <td>227,943,824 km (1.38 AU)</td>\\n    </tr>\\n    <tr>\\n      <th>Orbit Period:</th>\\n      <td>687 days (1.9 years)</td>\\n    </tr>\\n    <tr>\\n      <th>Surface Temperature:</th>\\n      <td>-87 to -5 °C</td>\\n    </tr>\\n    <tr>\\n      <th>First Record:</th>\\n      <td>2nd millennium BC</td>\\n    </tr>\\n    <tr>\\n      <th>Recorded By:</th>\\n      <td>Egyptian astronomers</td>\\n    </tr>\\n  </tbody>\\n</table>'"
      ]
     },
     "execution_count": 10,
     "metadata": {},
     "output_type": "execute_result"
    }
   ],
   "source": [
    "df.to_html()"
   ]
  },
  {
   "cell_type": "code",
   "execution_count": 102,
   "metadata": {
    "scrolled": true
   },
   "outputs": [
    {
     "name": "stdout",
     "output_type": "stream",
     "text": [
      "https://astrogeology.usgs.gov/search/map/Mars/Viking/cerberus_enhanced\n",
      "Cerberus Hemisphere \n",
      "https://astrogeology.usgs.gov/search/map/Mars/Viking/schiaparelli_enhanced\n",
      "Schiaparelli Hemisphere \n",
      "https://astrogeology.usgs.gov/search/map/Mars/Viking/syrtis_major_enhanced\n",
      "Syrtis Major Hemisphere \n",
      "https://astrogeology.usgs.gov/search/map/Mars/Viking/valles_marineris_enhanced\n",
      "Valles Marineris Hemisphere \n",
      "[{'Title': 'Cerberus Hemisphere ', 'URL': 'https://astrogeology.usgs.gov/search/map/Mars/Viking/cerberus_enhanced'}, {'Title': 'Schiaparelli Hemisphere ', 'URL': 'https://astrogeology.usgs.gov/search/map/Mars/Viking/schiaparelli_enhanced'}, {'Title': 'Syrtis Major Hemisphere ', 'URL': 'https://astrogeology.usgs.gov/search/map/Mars/Viking/syrtis_major_enhanced'}, {'Title': 'Valles Marineris Hemisphere ', 'URL': 'https://astrogeology.usgs.gov/search/map/Mars/Viking/valles_marineris_enhanced'}]\n"
     ]
    }
   ],
   "source": [
    "#Visit Astrogeology Website\n",
    "url = 'https://astrogeology.usgs.gov/search/results?q=hemisphere+enhanced&k1=target&v1=Mars'\n",
    "browser.visit(url)\n",
    "html = browser.html\n",
    "soup = BeautifulSoup(html, 'html.parser')\n",
    "\n",
    "\n",
    "#Use for loop to iterate through \n",
    "#Click each link to get image url\n",
    "collapsible = soup.find(\"div\", class_=\"collapsible results\")\n",
    "#class = accordian?\n",
    "\n",
    "hemispheres = []\n",
    "\n",
    "product_links = soup.find('a', class_='itemLink product-item')[\"href\"]\n",
    "links = browser.find_by_css('h3')\n",
    "\n",
    "#Loop through div containing links\n",
    "for i in range(len(links)):\n",
    "    \n",
    "    #image_link = url + str(product_links)\n",
    "    browser.find_by_css('h3')[i].click()\n",
    "    title = browser.find_by_css('h2.title').text\n",
    "    title = title.replace(\"Enhanced\", \"\")\n",
    "    browser.find_by_text('Sample').click()\n",
    "    img_url = browser.url\n",
    "    #find_by_tag('img')['src']\n",
    "\n",
    "\n",
    "    #Append the dictionary with the image url string and the hemisphere title to a list. \n",
    "    #This list will contain one dictionary for each hemisphere.    \n",
    "    hemis_dict = {\"Title\": title, \"URL\": img_url}\n",
    "    hemispheres.append(hemis_dict)\n",
    "    browser.windows[0]\n",
    "    browser.back()\n",
    "\n",
    "print(hemispheres)"
   ]
  },
  {
   "cell_type": "code",
   "execution_count": null,
   "metadata": {},
   "outputs": [],
   "source": []
  }
 ],
 "metadata": {
  "kernelspec": {
   "display_name": "Python 3",
   "language": "python",
   "name": "python3"
  },
  "language_info": {
   "codemirror_mode": {
    "name": "ipython",
    "version": 3
   },
   "file_extension": ".py",
   "mimetype": "text/x-python",
   "name": "python",
   "nbconvert_exporter": "python",
   "pygments_lexer": "ipython3",
   "version": "3.7.3"
  }
 },
 "nbformat": 4,
 "nbformat_minor": 2
}
